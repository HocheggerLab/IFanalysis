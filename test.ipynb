{
 "cells": [
  {
   "cell_type": "code",
   "execution_count": 1,
   "metadata": {
    "collapsed": true
   },
   "outputs": [],
   "source": [
    "import  pandas as pd"
   ]
  },
  {
   "cell_type": "code",
   "execution_count": 12,
   "outputs": [
    {
     "data": {
      "text/plain": "                                  experiment  plate_id well  well_id  \\\n0  230227_siRNAscreen_rep4_Plate3_RPEKCp53KO      1216   A2    14899   \n1  230227_siRNAscreen_rep4_Plate3_RPEKCp53KO      1216   A2    14899   \n2  230227_siRNAscreen_rep4_Plate3_RPEKCp53KO      1216   A2    14899   \n3  230227_siRNAscreen_rep4_Plate3_RPEKCp53KO      1216   A2    14899   \n4  230227_siRNAscreen_rep4_Plate3_RPEKCp53KO      1216   A2    14899   \n\n   image_id cell_line       condition  label  area_nucleus  \\\n0    442985     RPE-1  C16orf72 p53KO    2.0         108.0   \n1    442985     RPE-1  C16orf72 p53KO    5.0          73.0   \n2    442985     RPE-1  C16orf72 p53KO    3.0         113.0   \n3    442985     RPE-1  C16orf72 p53KO    6.0         108.0   \n4    442985     RPE-1  C16orf72 p53KO    7.0          90.0   \n\n   intensity_max_DAPI_nucleus  ...  intensity_max_H3P_cell  \\\n0                36412.621483  ...             2526.820742   \n1                51667.216285  ...             2526.820742   \n2                14563.015292  ...             1947.176210   \n3                32594.486671  ...            11190.617587   \n4                17208.265576  ...             2013.191240   \n\n   intensity_mean_H3P_cell  intensity_max_H3P_cyto  intensity_mean_H3P_cyto  \\\n0              1956.432209             2274.132509              1835.631142   \n1              1956.432209             2274.132509              1835.631142   \n2              1669.446679             1947.176210              1658.444030   \n3              2772.556625             5127.652528              1817.682918   \n4              1725.887069             2013.191240              1714.359205   \n\n   intensity_max_EdU_nucleus  intensity_mean_EdU_nucleus  \\\n0                1708.262311                 1158.719105   \n1                1077.983677                  873.393478   \n2                 984.386842                  835.401458   \n3                1112.659943                  939.364236   \n4                 993.581960                  863.969492   \n\n   intensity_max_EdU_cell  intensity_mean_EdU_cell  intensity_max_EdU_cyto  \\\n0             1708.262311               966.546588             1203.482150   \n1             1708.262311               966.546588             1203.482150   \n2              984.386842               784.362052              963.352332   \n3             1112.659943               820.703576              996.420197   \n4              993.581960               812.193092              984.916749   \n\n   intensity_mean_EdU_cyto  \n0               872.111966  \n1               872.111966  \n2               778.837672  \n3               796.477959  \n4               802.907310  \n\n[5 rows x 37 columns]",
      "text/html": "<div>\n<style scoped>\n    .dataframe tbody tr th:only-of-type {\n        vertical-align: middle;\n    }\n\n    .dataframe tbody tr th {\n        vertical-align: top;\n    }\n\n    .dataframe thead th {\n        text-align: right;\n    }\n</style>\n<table border=\"1\" class=\"dataframe\">\n  <thead>\n    <tr style=\"text-align: right;\">\n      <th></th>\n      <th>experiment</th>\n      <th>plate_id</th>\n      <th>well</th>\n      <th>well_id</th>\n      <th>image_id</th>\n      <th>cell_line</th>\n      <th>condition</th>\n      <th>label</th>\n      <th>area_nucleus</th>\n      <th>intensity_max_DAPI_nucleus</th>\n      <th>...</th>\n      <th>intensity_max_H3P_cell</th>\n      <th>intensity_mean_H3P_cell</th>\n      <th>intensity_max_H3P_cyto</th>\n      <th>intensity_mean_H3P_cyto</th>\n      <th>intensity_max_EdU_nucleus</th>\n      <th>intensity_mean_EdU_nucleus</th>\n      <th>intensity_max_EdU_cell</th>\n      <th>intensity_mean_EdU_cell</th>\n      <th>intensity_max_EdU_cyto</th>\n      <th>intensity_mean_EdU_cyto</th>\n    </tr>\n  </thead>\n  <tbody>\n    <tr>\n      <th>0</th>\n      <td>230227_siRNAscreen_rep4_Plate3_RPEKCp53KO</td>\n      <td>1216</td>\n      <td>A2</td>\n      <td>14899</td>\n      <td>442985</td>\n      <td>RPE-1</td>\n      <td>C16orf72 p53KO</td>\n      <td>2.0</td>\n      <td>108.0</td>\n      <td>36412.621483</td>\n      <td>...</td>\n      <td>2526.820742</td>\n      <td>1956.432209</td>\n      <td>2274.132509</td>\n      <td>1835.631142</td>\n      <td>1708.262311</td>\n      <td>1158.719105</td>\n      <td>1708.262311</td>\n      <td>966.546588</td>\n      <td>1203.482150</td>\n      <td>872.111966</td>\n    </tr>\n    <tr>\n      <th>1</th>\n      <td>230227_siRNAscreen_rep4_Plate3_RPEKCp53KO</td>\n      <td>1216</td>\n      <td>A2</td>\n      <td>14899</td>\n      <td>442985</td>\n      <td>RPE-1</td>\n      <td>C16orf72 p53KO</td>\n      <td>5.0</td>\n      <td>73.0</td>\n      <td>51667.216285</td>\n      <td>...</td>\n      <td>2526.820742</td>\n      <td>1956.432209</td>\n      <td>2274.132509</td>\n      <td>1835.631142</td>\n      <td>1077.983677</td>\n      <td>873.393478</td>\n      <td>1708.262311</td>\n      <td>966.546588</td>\n      <td>1203.482150</td>\n      <td>872.111966</td>\n    </tr>\n    <tr>\n      <th>2</th>\n      <td>230227_siRNAscreen_rep4_Plate3_RPEKCp53KO</td>\n      <td>1216</td>\n      <td>A2</td>\n      <td>14899</td>\n      <td>442985</td>\n      <td>RPE-1</td>\n      <td>C16orf72 p53KO</td>\n      <td>3.0</td>\n      <td>113.0</td>\n      <td>14563.015292</td>\n      <td>...</td>\n      <td>1947.176210</td>\n      <td>1669.446679</td>\n      <td>1947.176210</td>\n      <td>1658.444030</td>\n      <td>984.386842</td>\n      <td>835.401458</td>\n      <td>984.386842</td>\n      <td>784.362052</td>\n      <td>963.352332</td>\n      <td>778.837672</td>\n    </tr>\n    <tr>\n      <th>3</th>\n      <td>230227_siRNAscreen_rep4_Plate3_RPEKCp53KO</td>\n      <td>1216</td>\n      <td>A2</td>\n      <td>14899</td>\n      <td>442985</td>\n      <td>RPE-1</td>\n      <td>C16orf72 p53KO</td>\n      <td>6.0</td>\n      <td>108.0</td>\n      <td>32594.486671</td>\n      <td>...</td>\n      <td>11190.617587</td>\n      <td>2772.556625</td>\n      <td>5127.652528</td>\n      <td>1817.682918</td>\n      <td>1112.659943</td>\n      <td>939.364236</td>\n      <td>1112.659943</td>\n      <td>820.703576</td>\n      <td>996.420197</td>\n      <td>796.477959</td>\n    </tr>\n    <tr>\n      <th>4</th>\n      <td>230227_siRNAscreen_rep4_Plate3_RPEKCp53KO</td>\n      <td>1216</td>\n      <td>A2</td>\n      <td>14899</td>\n      <td>442985</td>\n      <td>RPE-1</td>\n      <td>C16orf72 p53KO</td>\n      <td>7.0</td>\n      <td>90.0</td>\n      <td>17208.265576</td>\n      <td>...</td>\n      <td>2013.191240</td>\n      <td>1725.887069</td>\n      <td>2013.191240</td>\n      <td>1714.359205</td>\n      <td>993.581960</td>\n      <td>863.969492</td>\n      <td>993.581960</td>\n      <td>812.193092</td>\n      <td>984.916749</td>\n      <td>802.907310</td>\n    </tr>\n  </tbody>\n</table>\n<p>5 rows × 37 columns</p>\n</div>"
     },
     "execution_count": 12,
     "metadata": {},
     "output_type": "execute_result"
    }
   ],
   "source": [
    "df1 = pd.read_csv('/Users/hh65/Library/CloudStorage/OneDrive-UniversityofSussex/Megan/Data/DepMap siRNA screen/DepMap siRNA screen Rep4/230227_siRNAscreen_rep4_Plate3_RPEKCp53KO/single_cell_data/230227_siRNAscreen_rep4_Plate3_RPEKCp53KO_final_data.csv', index_col=0)\n",
    "df1.head()"
   ],
   "metadata": {
    "collapsed": false
   }
  },
  {
   "cell_type": "code",
   "execution_count": 14,
   "outputs": [
    {
     "data": {
      "text/plain": "array(['C16orf72 p53KO', 'CDC27 p53KO', 'INHBE p53KO', 'QRICH1 p53KO',\n       'PPIL4 p53KO', 'ELOF1 p53KO', 'GPATCH8 p53KO', 'GAPD CTL p53KO',\n       'ZMAT5 p53KO', 'CDK4 p53KO', 'ZMAT2 p53KO', 'RPL37A p53KO',\n       'CPSF2 p53KO', 'C1orf131 p53KO', 'NT p53KO', 'C14orf80 p53KO',\n       'NSA2 p53KO', 'SCR p53KO', 'PRIM1 p53KO', 'C6orf132 p53KO',\n       'CCNA2 p53KO', 'IPO9 p53KO', 'FNTA p53KO', 'ISCU p53KO'],\n      dtype=object)"
     },
     "execution_count": 14,
     "metadata": {},
     "output_type": "execute_result"
    }
   ],
   "source": [
    "df1.condition.unique()"
   ],
   "metadata": {
    "collapsed": false
   }
  },
  {
   "cell_type": "code",
   "execution_count": 15,
   "outputs": [
    {
     "data": {
      "text/plain": "                                  experiment  plate_id well  well_id  \\\n0  230227_siRNAscreen_rep4_Plate3_RPEKCp53KO      1216   A2    14899   \n1  230227_siRNAscreen_rep4_Plate3_RPEKCp53KO      1216   A2    14899   \n2  230227_siRNAscreen_rep4_Plate3_RPEKCp53KO      1216   A2    14899   \n3  230227_siRNAscreen_rep4_Plate3_RPEKCp53KO      1216   A2    14899   \n4  230227_siRNAscreen_rep4_Plate3_RPEKCp53KO      1216   A2    14899   \n\n   image_id   cell_line condition  label  area_nucleus  \\\n0    442985  RPE-1p53KO  C16orf72    2.0         108.0   \n1    442985  RPE-1p53KO  C16orf72    5.0          73.0   \n2    442985  RPE-1p53KO  C16orf72    3.0         113.0   \n3    442985  RPE-1p53KO  C16orf72    6.0         108.0   \n4    442985  RPE-1p53KO  C16orf72    7.0          90.0   \n\n   intensity_max_DAPI_nucleus  ...  intensity_max_H3P_cell  \\\n0                36412.621483  ...             2526.820742   \n1                51667.216285  ...             2526.820742   \n2                14563.015292  ...             1947.176210   \n3                32594.486671  ...            11190.617587   \n4                17208.265576  ...             2013.191240   \n\n   intensity_mean_H3P_cell  intensity_max_H3P_cyto  intensity_mean_H3P_cyto  \\\n0              1956.432209             2274.132509              1835.631142   \n1              1956.432209             2274.132509              1835.631142   \n2              1669.446679             1947.176210              1658.444030   \n3              2772.556625             5127.652528              1817.682918   \n4              1725.887069             2013.191240              1714.359205   \n\n   intensity_max_EdU_nucleus  intensity_mean_EdU_nucleus  \\\n0                1708.262311                 1158.719105   \n1                1077.983677                  873.393478   \n2                 984.386842                  835.401458   \n3                1112.659943                  939.364236   \n4                 993.581960                  863.969492   \n\n   intensity_max_EdU_cell  intensity_mean_EdU_cell  intensity_max_EdU_cyto  \\\n0             1708.262311               966.546588             1203.482150   \n1             1708.262311               966.546588             1203.482150   \n2              984.386842               784.362052              963.352332   \n3             1112.659943               820.703576              996.420197   \n4              993.581960               812.193092              984.916749   \n\n   intensity_mean_EdU_cyto  \n0               872.111966  \n1               872.111966  \n2               778.837672  \n3               796.477959  \n4               802.907310  \n\n[5 rows x 37 columns]",
      "text/html": "<div>\n<style scoped>\n    .dataframe tbody tr th:only-of-type {\n        vertical-align: middle;\n    }\n\n    .dataframe tbody tr th {\n        vertical-align: top;\n    }\n\n    .dataframe thead th {\n        text-align: right;\n    }\n</style>\n<table border=\"1\" class=\"dataframe\">\n  <thead>\n    <tr style=\"text-align: right;\">\n      <th></th>\n      <th>experiment</th>\n      <th>plate_id</th>\n      <th>well</th>\n      <th>well_id</th>\n      <th>image_id</th>\n      <th>cell_line</th>\n      <th>condition</th>\n      <th>label</th>\n      <th>area_nucleus</th>\n      <th>intensity_max_DAPI_nucleus</th>\n      <th>...</th>\n      <th>intensity_max_H3P_cell</th>\n      <th>intensity_mean_H3P_cell</th>\n      <th>intensity_max_H3P_cyto</th>\n      <th>intensity_mean_H3P_cyto</th>\n      <th>intensity_max_EdU_nucleus</th>\n      <th>intensity_mean_EdU_nucleus</th>\n      <th>intensity_max_EdU_cell</th>\n      <th>intensity_mean_EdU_cell</th>\n      <th>intensity_max_EdU_cyto</th>\n      <th>intensity_mean_EdU_cyto</th>\n    </tr>\n  </thead>\n  <tbody>\n    <tr>\n      <th>0</th>\n      <td>230227_siRNAscreen_rep4_Plate3_RPEKCp53KO</td>\n      <td>1216</td>\n      <td>A2</td>\n      <td>14899</td>\n      <td>442985</td>\n      <td>RPE-1p53KO</td>\n      <td>C16orf72</td>\n      <td>2.0</td>\n      <td>108.0</td>\n      <td>36412.621483</td>\n      <td>...</td>\n      <td>2526.820742</td>\n      <td>1956.432209</td>\n      <td>2274.132509</td>\n      <td>1835.631142</td>\n      <td>1708.262311</td>\n      <td>1158.719105</td>\n      <td>1708.262311</td>\n      <td>966.546588</td>\n      <td>1203.482150</td>\n      <td>872.111966</td>\n    </tr>\n    <tr>\n      <th>1</th>\n      <td>230227_siRNAscreen_rep4_Plate3_RPEKCp53KO</td>\n      <td>1216</td>\n      <td>A2</td>\n      <td>14899</td>\n      <td>442985</td>\n      <td>RPE-1p53KO</td>\n      <td>C16orf72</td>\n      <td>5.0</td>\n      <td>73.0</td>\n      <td>51667.216285</td>\n      <td>...</td>\n      <td>2526.820742</td>\n      <td>1956.432209</td>\n      <td>2274.132509</td>\n      <td>1835.631142</td>\n      <td>1077.983677</td>\n      <td>873.393478</td>\n      <td>1708.262311</td>\n      <td>966.546588</td>\n      <td>1203.482150</td>\n      <td>872.111966</td>\n    </tr>\n    <tr>\n      <th>2</th>\n      <td>230227_siRNAscreen_rep4_Plate3_RPEKCp53KO</td>\n      <td>1216</td>\n      <td>A2</td>\n      <td>14899</td>\n      <td>442985</td>\n      <td>RPE-1p53KO</td>\n      <td>C16orf72</td>\n      <td>3.0</td>\n      <td>113.0</td>\n      <td>14563.015292</td>\n      <td>...</td>\n      <td>1947.176210</td>\n      <td>1669.446679</td>\n      <td>1947.176210</td>\n      <td>1658.444030</td>\n      <td>984.386842</td>\n      <td>835.401458</td>\n      <td>984.386842</td>\n      <td>784.362052</td>\n      <td>963.352332</td>\n      <td>778.837672</td>\n    </tr>\n    <tr>\n      <th>3</th>\n      <td>230227_siRNAscreen_rep4_Plate3_RPEKCp53KO</td>\n      <td>1216</td>\n      <td>A2</td>\n      <td>14899</td>\n      <td>442985</td>\n      <td>RPE-1p53KO</td>\n      <td>C16orf72</td>\n      <td>6.0</td>\n      <td>108.0</td>\n      <td>32594.486671</td>\n      <td>...</td>\n      <td>11190.617587</td>\n      <td>2772.556625</td>\n      <td>5127.652528</td>\n      <td>1817.682918</td>\n      <td>1112.659943</td>\n      <td>939.364236</td>\n      <td>1112.659943</td>\n      <td>820.703576</td>\n      <td>996.420197</td>\n      <td>796.477959</td>\n    </tr>\n    <tr>\n      <th>4</th>\n      <td>230227_siRNAscreen_rep4_Plate3_RPEKCp53KO</td>\n      <td>1216</td>\n      <td>A2</td>\n      <td>14899</td>\n      <td>442985</td>\n      <td>RPE-1p53KO</td>\n      <td>C16orf72</td>\n      <td>7.0</td>\n      <td>90.0</td>\n      <td>17208.265576</td>\n      <td>...</td>\n      <td>2013.191240</td>\n      <td>1725.887069</td>\n      <td>2013.191240</td>\n      <td>1714.359205</td>\n      <td>993.581960</td>\n      <td>863.969492</td>\n      <td>993.581960</td>\n      <td>812.193092</td>\n      <td>984.916749</td>\n      <td>802.907310</td>\n    </tr>\n  </tbody>\n</table>\n<p>5 rows × 37 columns</p>\n</div>"
     },
     "execution_count": 15,
     "metadata": {},
     "output_type": "execute_result"
    }
   ],
   "source": [
    "df1['cell_line'] = df1['cell_line'].str.cat(df1['condition'].apply(lambda x: x.split(' ')[-1]), sep='')\n",
    "df1['condition'] = df1['condition'].apply(lambda x: x.split(' ')[0])\n",
    "df1.head()"
   ],
   "metadata": {
    "collapsed": false
   }
  },
  {
   "cell_type": "code",
   "execution_count": 17,
   "outputs": [],
   "source": [
    "df = df1[df1['condition'].isin(['NT', 'SCR', 'CDK4', 'CCNA2', 'CDC27'])]"
   ],
   "metadata": {
    "collapsed": false
   }
  },
  {
   "cell_type": "code",
   "execution_count": 18,
   "outputs": [],
   "source": [
    "df.to_csv('~/Desktop/excercise.csv')"
   ],
   "metadata": {
    "collapsed": false
   }
  },
  {
   "cell_type": "code",
   "execution_count": null,
   "outputs": [],
   "source": [],
   "metadata": {
    "collapsed": false
   }
  }
 ],
 "metadata": {
  "kernelspec": {
   "display_name": "Python 3",
   "language": "python",
   "name": "python3"
  },
  "language_info": {
   "codemirror_mode": {
    "name": "ipython",
    "version": 2
   },
   "file_extension": ".py",
   "mimetype": "text/x-python",
   "name": "python",
   "nbconvert_exporter": "python",
   "pygments_lexer": "ipython2",
   "version": "2.7.6"
  }
 },
 "nbformat": 4,
 "nbformat_minor": 0
}
